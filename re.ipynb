{
 "cells": [
  {
   "cell_type": "code",
   "execution_count": 55,
   "metadata": {},
   "outputs": [],
   "source": [
    "import regex as re"
   ]
  },
  {
   "cell_type": "code",
   "execution_count": 58,
   "metadata": {},
   "outputs": [],
   "source": [
    "strng = r\"-SU -> #[cross wrist grip]{goober} -> ^ModGeo\""
   ]
  },
  {
   "cell_type": "code",
   "execution_count": 56,
   "metadata": {},
   "outputs": [
    {
     "data": {
      "text/plain": [
       "[]"
      ]
     },
     "execution_count": 56,
     "metadata": {},
     "output_type": "execute_result"
    }
   ],
   "source": [
    "m = re.findall(r\"(?P<class>[\\^\\-!#*?$])(?P<name>(?:[a-zA-Z]+)|(?:\\[[a-zA-Z ]+\\])) -> (?P=class)(?P=name)\", strng, overlapped=True)\n",
    "m\n"
   ]
  },
  {
   "cell_type": "code",
   "execution_count": 98,
   "metadata": {},
   "outputs": [
    {
     "data": {
      "text/plain": [
       "[('-', 'SU', '', '#', '[cross wrist grip]', 'goober'),\n",
       " ('#', '[cross wrist grip]', 'goober', '^', 'ModGeo', '')]"
      ]
     },
     "execution_count": 98,
     "metadata": {},
     "output_type": "execute_result"
    }
   ],
   "source": [
    "class_regex = r\"([\\^\\-!#*?$])\"\n",
    "name_regex = r\"((?:[a-z]+)|(?:\\[[a-z ]+\\]))\"\n",
    "tip_regex = r\"(?:{([a-z ]+)})?\"\n",
    "m = re.findall(f\"{class_regex}{name_regex}{tip_regex} -> {class_regex}{name_regex}{tip_regex}\", strng, overlapped=True, flags=re.IGNORECASE)\n",
    "m"
   ]
  },
  {
   "cell_type": "code",
   "execution_count": 95,
   "metadata": {},
   "outputs": [
    {
     "data": {
      "text/plain": [
       "'cross wrist grip'"
      ]
     },
     "execution_count": 95,
     "metadata": {},
     "output_type": "execute_result"
    }
   ],
   "source": [
    "#(?=\\])\n",
    "m = re.search(r\"(?<=\\[)[a-z ]+(?=\\])\", strng)\n",
    "m.group()\n"
   ]
  }
 ],
 "metadata": {
  "kernelspec": {
   "display_name": "Python 3",
   "language": "python",
   "name": "python3"
  },
  "language_info": {
   "codemirror_mode": {
    "name": "ipython",
    "version": 3
   },
   "file_extension": ".py",
   "mimetype": "text/x-python",
   "name": "python",
   "nbconvert_exporter": "python",
   "pygments_lexer": "ipython3",
   "version": "3.11.4"
  }
 },
 "nbformat": 4,
 "nbformat_minor": 2
}
